{
  "cells": [
    {
      "cell_type": "markdown",
      "metadata": {
        "id": "VzfLDmmcoPZJ"
      },
      "source": [
        "## Word2Vec"
      ]
    },
    {
      "cell_type": "markdown",
      "metadata": {
        "id": "sDo2OHjVoVqL"
      },
      "source": [
        "Link to data: https://drive.google.com/file/d/1lbtAwzE7l0otXYFDtGUKKWzI83bD5D5H/view?usp=drive_link"
      ]
    },
    {
      "cell_type": "code",
      "execution_count": null,
      "metadata": {
        "colab": {
          "base_uri": "https://localhost:8080/"
        },
        "id": "MJ2U-KWaoqPn",
        "outputId": "fb9d5f81-9299-4740-dc21-ba8129cb0d7c"
      },
      "outputs": [],
      "source": [
        "!pip install --upgrade gensim --user"
      ]
    },
    {
      "cell_type": "code",
      "execution_count": null,
      "metadata": {
        "id": "28SfDtEan1pE"
      },
      "outputs": [],
      "source": [
        "import numpy as np\n",
        "import pandas as pd\n",
        "import gensim\n",
        "import os"
      ]
    },
    {
      "cell_type": "code",
      "execution_count": null,
      "metadata": {
        "colab": {
          "base_uri": "https://localhost:8080/"
        },
        "id": "uxLcKf8ypAqP",
        "outputId": "f147bdd9-56f9-4324-f53e-ade098562deb"
      },
      "outputs": [],
      "source": [
        "from nltk import sent_tokenize\n",
        "from gensim.utils import simple_preprocess\n",
        "import nltk\n",
        "nltk.download('punkt_tab')"
      ]
    },
    {
      "cell_type": "code",
      "execution_count": null,
      "metadata": {
        "id": "WQXCixKxsyIC"
      },
      "outputs": [],
      "source": [
        "story = []\n",
        "for filename in os.listdir('data'):\n",
        "    if filename == '.ipynb_checkpoints':\n",
        "      pass\n",
        "    f = open(os.path.join('data',filename))\n",
        "    corpus = f.read()\n",
        "    raw_sent = sent_tokenize(corpus)\n",
        "    for sent in raw_sent:\n",
        "        story.append(simple_preprocess(sent))"
      ]
    },
    {
      "cell_type": "code",
      "execution_count": null,
      "metadata": {
        "id": "_cXjZSMrtniC"
      },
      "outputs": [],
      "source": [
        "story"
      ]
    },
    {
      "cell_type": "code",
      "execution_count": null,
      "metadata": {
        "colab": {
          "base_uri": "https://localhost:8080/"
        },
        "id": "EoJNtYmbtq0S",
        "outputId": "93c1865e-1975-4868-e044-af521fea6ccc"
      },
      "outputs": [],
      "source": [
        "len(story)"
      ]
    },
    {
      "cell_type": "code",
      "execution_count": null,
      "metadata": {
        "colab": {
          "base_uri": "https://localhost:8080/"
        },
        "id": "3YNZiHbguC2Y",
        "outputId": "4a81f05b-5b5e-4504-a666-676968c422d7"
      },
      "outputs": [],
      "source": [
        "story[0]"
      ]
    },
    {
      "cell_type": "code",
      "execution_count": null,
      "metadata": {
        "id": "qTLlvx73uW3S"
      },
      "outputs": [],
      "source": [
        "model = gensim.models.Word2Vec(\n",
        "    window=10,\n",
        "    min_count=2,\n",
        "    workers=4\n",
        ")"
      ]
    },
    {
      "cell_type": "code",
      "execution_count": null,
      "metadata": {
        "id": "yoivveePueQJ"
      },
      "outputs": [],
      "source": [
        "model.build_vocab(story)"
      ]
    },
    {
      "cell_type": "code",
      "execution_count": null,
      "metadata": {
        "colab": {
          "base_uri": "https://localhost:8080/"
        },
        "id": "Sg-eWrfguhN1",
        "outputId": "731dd81e-2fd8-45a2-e829-0bf95351cf71"
      },
      "outputs": [],
      "source": [
        "model.train(story, total_examples=model.corpus_count, epochs=model.epochs)"
      ]
    },
    {
      "cell_type": "code",
      "execution_count": null,
      "metadata": {
        "colab": {
          "base_uri": "https://localhost:8080/"
        },
        "id": "_kLzmWJIumXI",
        "outputId": "2ff31e06-fb96-4c87-b46b-5f80bdeaf32d"
      },
      "outputs": [],
      "source": [
        "model.wv.most_similar('man')"
      ]
    },
    {
      "cell_type": "code",
      "execution_count": null,
      "metadata": {
        "colab": {
          "base_uri": "https://localhost:8080/"
        },
        "id": "wDzgyTEPuwJf",
        "outputId": "d43589ab-dc0c-42e3-a6ea-9e36036ea61a"
      },
      "outputs": [],
      "source": [
        "model.wv.similarity('man','woman')"
      ]
    },
    {
      "cell_type": "code",
      "execution_count": null,
      "metadata": {
        "colab": {
          "base_uri": "https://localhost:8080/"
        },
        "id": "fHdpRGuguzQx",
        "outputId": "d1180a6d-41b6-46ef-8777-a21f65fd0cf2"
      },
      "outputs": [],
      "source": [
        "model.wv.similarity('arya','sansa')"
      ]
    },
    {
      "cell_type": "code",
      "execution_count": null,
      "metadata": {
        "colab": {
          "base_uri": "https://localhost:8080/"
        },
        "id": "ISFyuIV2u5wc",
        "outputId": "1c44ad14-4dc2-4b2a-e803-96e90ca67e4a"
      },
      "outputs": [],
      "source": [
        "model.wv['deep'].shape"
      ]
    },
    {
      "cell_type": "code",
      "execution_count": null,
      "metadata": {
        "id": "_1YN7RzFvFJB"
      },
      "outputs": [],
      "source": [
        "vec = model.wv.get_normed_vectors()"
      ]
    },
    {
      "cell_type": "code",
      "execution_count": null,
      "metadata": {
        "colab": {
          "base_uri": "https://localhost:8080/"
        },
        "id": "ZvFjaLRDvKs_",
        "outputId": "9624a8b0-e344-4faf-8fdc-43c49c7af618"
      },
      "outputs": [],
      "source": [
        "vec"
      ]
    },
    {
      "cell_type": "code",
      "execution_count": null,
      "metadata": {
        "colab": {
          "base_uri": "https://localhost:8080/"
        },
        "id": "bf87rYagvM9G",
        "outputId": "50b19337-8748-4977-a068-1876599c03d6"
      },
      "outputs": [],
      "source": [
        "model.wv.get_normed_vectors().shape"
      ]
    },
    {
      "cell_type": "code",
      "execution_count": null,
      "metadata": {
        "id": "nk-UObyyvRaA"
      },
      "outputs": [],
      "source": [
        "y = model.wv.index_to_key"
      ]
    },
    {
      "cell_type": "code",
      "execution_count": null,
      "metadata": {
        "colab": {
          "base_uri": "https://localhost:8080/"
        },
        "id": "E0s4kKsOvSoi",
        "outputId": "87a143e0-8613-4cc0-aa54-b0e6a0710cdd"
      },
      "outputs": [],
      "source": [
        "len(y)"
      ]
    },
    {
      "cell_type": "code",
      "execution_count": null,
      "metadata": {
        "id": "BB98HckjvUiQ"
      },
      "outputs": [],
      "source": [
        "y"
      ]
    },
    {
      "cell_type": "code",
      "execution_count": null,
      "metadata": {
        "id": "pfA-lvZSvWSJ"
      },
      "outputs": [],
      "source": [
        "from sklearn.decomposition import PCA"
      ]
    },
    {
      "cell_type": "code",
      "execution_count": null,
      "metadata": {
        "id": "nbzthiSUvcIe"
      },
      "outputs": [],
      "source": [
        "pca = PCA(n_components=3)"
      ]
    },
    {
      "cell_type": "code",
      "execution_count": null,
      "metadata": {
        "id": "blU3GA9EvdrM"
      },
      "outputs": [],
      "source": [
        "X = pca.fit_transform(model.wv.get_normed_vectors())"
      ]
    },
    {
      "cell_type": "code",
      "execution_count": null,
      "metadata": {
        "colab": {
          "base_uri": "https://localhost:8080/"
        },
        "id": "8_FaGjARve15",
        "outputId": "95f5aa53-5ef3-4bf6-a8dd-d4198631159e"
      },
      "outputs": [],
      "source": [
        "X"
      ]
    },
    {
      "cell_type": "code",
      "execution_count": null,
      "metadata": {
        "colab": {
          "base_uri": "https://localhost:8080/"
        },
        "id": "-y74f7E8vgVV",
        "outputId": "8a2cf35c-639b-4777-d072-3b1053eccc40"
      },
      "outputs": [],
      "source": [
        "X.shape"
      ]
    },
    {
      "cell_type": "code",
      "execution_count": null,
      "metadata": {
        "id": "8nEb1OKVvigy"
      },
      "outputs": [],
      "source": [
        "import plotly.express as px\n",
        "fig = px.scatter_3d(X[200:300],x=0,y=1,z=2, color=y[200:300])\n",
        "fig.show()"
      ]
    }
  ],
  "metadata": {
    "colab": {
      "provenance": []
    },
    "kernelspec": {
      "display_name": "Python 3",
      "name": "python3"
    },
    "language_info": {
      "name": "python"
    }
  },
  "nbformat": 4,
  "nbformat_minor": 0
}
