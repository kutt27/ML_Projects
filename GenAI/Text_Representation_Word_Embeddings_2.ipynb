{
  "nbformat": 4,
  "nbformat_minor": 0,
  "metadata": {
    "colab": {
      "provenance": []
    },
    "kernelspec": {
      "name": "python3",
      "display_name": "Python 3"
    },
    "language_info": {
      "name": "python"
    }
  },
  "cells": [
    {
      "cell_type": "markdown",
      "source": [
        "## Word2Vec"
      ],
      "metadata": {
        "id": "VzfLDmmcoPZJ"
      }
    },
    {
      "cell_type": "markdown",
      "source": [
        "Link to data: https://drive.google.com/file/d/1lbtAwzE7l0otXYFDtGUKKWzI83bD5D5H/view?usp=drive_link"
      ],
      "metadata": {
        "id": "sDo2OHjVoVqL"
      }
    },
    {
      "cell_type": "code",
      "source": [
        "!pip install --upgrade gensim --user"
      ],
      "metadata": {
        "colab": {
          "base_uri": "https://localhost:8080/"
        },
        "id": "MJ2U-KWaoqPn",
        "outputId": "fb9d5f81-9299-4740-dc21-ba8129cb0d7c"
      },
      "execution_count": 2,
      "outputs": [
        {
          "output_type": "stream",
          "name": "stdout",
          "text": [
            "Requirement already satisfied: gensim in /root/.local/lib/python3.12/site-packages (4.3.3)\n",
            "Requirement already satisfied: numpy<2.0,>=1.18.5 in /root/.local/lib/python3.12/site-packages (from gensim) (1.26.4)\n",
            "Requirement already satisfied: scipy<1.14.0,>=1.7.0 in /root/.local/lib/python3.12/site-packages (from gensim) (1.13.1)\n",
            "Requirement already satisfied: smart-open>=1.8.1 in /usr/local/lib/python3.12/dist-packages (from gensim) (7.3.1)\n",
            "Requirement already satisfied: wrapt in /usr/local/lib/python3.12/dist-packages (from smart-open>=1.8.1->gensim) (1.17.3)\n",
            "\u001b[31mERROR: Operation cancelled by user\u001b[0m\u001b[31m\n",
            "\u001b[0m"
          ]
        }
      ]
    },
    {
      "cell_type": "code",
      "execution_count": 3,
      "metadata": {
        "id": "28SfDtEan1pE"
      },
      "outputs": [],
      "source": [
        "import numpy as np\n",
        "import pandas as pd\n",
        "import gensim\n",
        "import os"
      ]
    },
    {
      "cell_type": "code",
      "source": [
        "from nltk import sent_tokenize\n",
        "from gensim.utils import simple_preprocess\n",
        "import nltk\n",
        "nltk.download('punkt_tab')"
      ],
      "metadata": {
        "colab": {
          "base_uri": "https://localhost:8080/"
        },
        "id": "uxLcKf8ypAqP",
        "outputId": "f147bdd9-56f9-4324-f53e-ade098562deb"
      },
      "execution_count": 4,
      "outputs": [
        {
          "output_type": "stream",
          "name": "stderr",
          "text": [
            "[nltk_data] Downloading package punkt_tab to /root/nltk_data...\n",
            "[nltk_data]   Package punkt_tab is already up-to-date!\n"
          ]
        },
        {
          "output_type": "execute_result",
          "data": {
            "text/plain": [
              "True"
            ]
          },
          "metadata": {},
          "execution_count": 4
        }
      ]
    },
    {
      "cell_type": "code",
      "source": [
        "story = []\n",
        "for filename in os.listdir('data'):\n",
        "    if filename == '.ipynb_checkpoints':\n",
        "      pass\n",
        "    f = open(os.path.join('data',filename))\n",
        "    corpus = f.read()\n",
        "    raw_sent = sent_tokenize(corpus)\n",
        "    for sent in raw_sent:\n",
        "        story.append(simple_preprocess(sent))"
      ],
      "metadata": {
        "id": "WQXCixKxsyIC"
      },
      "execution_count": 5,
      "outputs": []
    },
    {
      "cell_type": "code",
      "source": [
        "story"
      ],
      "metadata": {
        "id": "_cXjZSMrtniC"
      },
      "execution_count": null,
      "outputs": []
    },
    {
      "cell_type": "code",
      "source": [
        "len(story)"
      ],
      "metadata": {
        "colab": {
          "base_uri": "https://localhost:8080/"
        },
        "id": "EoJNtYmbtq0S",
        "outputId": "93c1865e-1975-4868-e044-af521fea6ccc"
      },
      "execution_count": 7,
      "outputs": [
        {
          "output_type": "execute_result",
          "data": {
            "text/plain": [
              "8602"
            ]
          },
          "metadata": {},
          "execution_count": 7
        }
      ]
    },
    {
      "cell_type": "code",
      "source": [
        "story[0]"
      ],
      "metadata": {
        "colab": {
          "base_uri": "https://localhost:8080/"
        },
        "id": "3YNZiHbguC2Y",
        "outputId": "4a81f05b-5b5e-4504-a666-676968c422d7"
      },
      "execution_count": 8,
      "outputs": [
        {
          "output_type": "execute_result",
          "data": {
            "text/plain": [
              "['game',\n",
              " 'of',\n",
              " 'thrones',\n",
              " 'book',\n",
              " 'one',\n",
              " 'of',\n",
              " 'song',\n",
              " 'of',\n",
              " 'ice',\n",
              " 'and',\n",
              " 'fire',\n",
              " 'by',\n",
              " 'george',\n",
              " 'martin',\n",
              " 'prologue',\n",
              " 'we',\n",
              " 'should',\n",
              " 'start',\n",
              " 'back',\n",
              " 'gared',\n",
              " 'urged',\n",
              " 'as',\n",
              " 'the',\n",
              " 'woods',\n",
              " 'began',\n",
              " 'to',\n",
              " 'grow',\n",
              " 'dark',\n",
              " 'around',\n",
              " 'them']"
            ]
          },
          "metadata": {},
          "execution_count": 8
        }
      ]
    },
    {
      "cell_type": "code",
      "source": [
        "model = gensim.models.Word2Vec(\n",
        "    window=10,\n",
        "    min_count=2,\n",
        "    workers=4\n",
        ")"
      ],
      "metadata": {
        "id": "qTLlvx73uW3S"
      },
      "execution_count": 9,
      "outputs": []
    },
    {
      "cell_type": "code",
      "source": [
        "model.build_vocab(story)"
      ],
      "metadata": {
        "id": "yoivveePueQJ"
      },
      "execution_count": 10,
      "outputs": []
    },
    {
      "cell_type": "code",
      "source": [
        "model.train(story, total_examples=model.corpus_count, epochs=model.epochs)"
      ],
      "metadata": {
        "colab": {
          "base_uri": "https://localhost:8080/"
        },
        "id": "Sg-eWrfguhN1",
        "outputId": "731dd81e-2fd8-45a2-e829-0bf95351cf71"
      },
      "execution_count": 11,
      "outputs": [
        {
          "output_type": "execute_result",
          "data": {
            "text/plain": [
              "(323003, 447775)"
            ]
          },
          "metadata": {},
          "execution_count": 11
        }
      ]
    },
    {
      "cell_type": "code",
      "source": [
        "model.wv.most_similar('man')"
      ],
      "metadata": {
        "colab": {
          "base_uri": "https://localhost:8080/"
        },
        "id": "_kLzmWJIumXI",
        "outputId": "2ff31e06-fb96-4c87-b46b-5f80bdeaf32d"
      },
      "execution_count": 12,
      "outputs": [
        {
          "output_type": "execute_result",
          "data": {
            "text/plain": [
              "[('an', 0.9997849464416504),\n",
              " ('dothraki', 0.9997456073760986),\n",
              " ('where', 0.999715268611908),\n",
              " ('three', 0.9996969103813171),\n",
              " ('another', 0.9996960759162903),\n",
              " ('until', 0.999690592288971),\n",
              " ('men', 0.9996896982192993),\n",
              " ('snow', 0.99966961145401),\n",
              " ('still', 0.9996691346168518),\n",
              " ('old', 0.9996689558029175)]"
            ]
          },
          "metadata": {},
          "execution_count": 12
        }
      ]
    },
    {
      "cell_type": "code",
      "source": [
        "model.wv.similarity('man','woman')"
      ],
      "metadata": {
        "colab": {
          "base_uri": "https://localhost:8080/"
        },
        "id": "wDzgyTEPuwJf",
        "outputId": "d43589ab-dc0c-42e3-a6ea-9e36036ea61a"
      },
      "execution_count": 13,
      "outputs": [
        {
          "output_type": "execute_result",
          "data": {
            "text/plain": [
              "0.9995259"
            ]
          },
          "metadata": {},
          "execution_count": 13
        }
      ]
    },
    {
      "cell_type": "code",
      "source": [
        "model.wv.similarity('arya','sansa')"
      ],
      "metadata": {
        "colab": {
          "base_uri": "https://localhost:8080/"
        },
        "id": "fHdpRGuguzQx",
        "outputId": "d1180a6d-41b6-46ef-8777-a21f65fd0cf2"
      },
      "execution_count": 14,
      "outputs": [
        {
          "output_type": "execute_result",
          "data": {
            "text/plain": [
              "0.9997582"
            ]
          },
          "metadata": {},
          "execution_count": 14
        }
      ]
    },
    {
      "cell_type": "code",
      "source": [
        "model.wv['deep'].shape"
      ],
      "metadata": {
        "colab": {
          "base_uri": "https://localhost:8080/"
        },
        "id": "ISFyuIV2u5wc",
        "outputId": "1c44ad14-4dc2-4b2a-e803-96e90ca67e4a"
      },
      "execution_count": 15,
      "outputs": [
        {
          "output_type": "execute_result",
          "data": {
            "text/plain": [
              "(100,)"
            ]
          },
          "metadata": {},
          "execution_count": 15
        }
      ]
    },
    {
      "cell_type": "code",
      "source": [
        "vec = model.wv.get_normed_vectors()"
      ],
      "metadata": {
        "id": "_1YN7RzFvFJB"
      },
      "execution_count": 16,
      "outputs": []
    },
    {
      "cell_type": "code",
      "source": [
        "vec"
      ],
      "metadata": {
        "colab": {
          "base_uri": "https://localhost:8080/"
        },
        "id": "ZvFjaLRDvKs_",
        "outputId": "9624a8b0-e344-4faf-8fdc-43c49c7af618"
      },
      "execution_count": 17,
      "outputs": [
        {
          "output_type": "execute_result",
          "data": {
            "text/plain": [
              "array([[-0.14480427,  0.07912046,  0.10299377, ..., -0.0947375 ,\n",
              "         0.08110773,  0.01987571],\n",
              "       [-0.13627431,  0.07682516,  0.09388704, ..., -0.0944496 ,\n",
              "         0.08257234,  0.0102715 ],\n",
              "       [-0.10303278,  0.05419686,  0.07524876, ..., -0.08872122,\n",
              "         0.08399399, -0.01554769],\n",
              "       ...,\n",
              "       [-0.07595928,  0.13631952,  0.10831041, ..., -0.11479604,\n",
              "         0.0862623 ,  0.03573058],\n",
              "       [-0.0977326 ,  0.07851526,  0.05792072, ..., -0.11150157,\n",
              "         0.07056677, -0.02414983],\n",
              "       [-0.01806354,  0.11926923, -0.00719678, ..., -0.0709497 ,\n",
              "         0.09621496, -0.02493257]], dtype=float32)"
            ]
          },
          "metadata": {},
          "execution_count": 17
        }
      ]
    },
    {
      "cell_type": "code",
      "source": [
        "model.wv.get_normed_vectors().shape"
      ],
      "metadata": {
        "colab": {
          "base_uri": "https://localhost:8080/"
        },
        "id": "bf87rYagvM9G",
        "outputId": "50b19337-8748-4977-a068-1876599c03d6"
      },
      "execution_count": 18,
      "outputs": [
        {
          "output_type": "execute_result",
          "data": {
            "text/plain": [
              "(3840, 100)"
            ]
          },
          "metadata": {},
          "execution_count": 18
        }
      ]
    },
    {
      "cell_type": "code",
      "source": [
        "y = model.wv.index_to_key"
      ],
      "metadata": {
        "id": "nk-UObyyvRaA"
      },
      "execution_count": 19,
      "outputs": []
    },
    {
      "cell_type": "code",
      "source": [
        "len(y)"
      ],
      "metadata": {
        "colab": {
          "base_uri": "https://localhost:8080/"
        },
        "id": "E0s4kKsOvSoi",
        "outputId": "87a143e0-8613-4cc0-aa54-b0e6a0710cdd"
      },
      "execution_count": 20,
      "outputs": [
        {
          "output_type": "execute_result",
          "data": {
            "text/plain": [
              "3840"
            ]
          },
          "metadata": {},
          "execution_count": 20
        }
      ]
    },
    {
      "cell_type": "code",
      "source": [
        "y"
      ],
      "metadata": {
        "id": "BB98HckjvUiQ"
      },
      "execution_count": null,
      "outputs": []
    },
    {
      "cell_type": "code",
      "source": [
        "from sklearn.decomposition import PCA"
      ],
      "metadata": {
        "id": "pfA-lvZSvWSJ"
      },
      "execution_count": 22,
      "outputs": []
    },
    {
      "cell_type": "code",
      "source": [
        "pca = PCA(n_components=3)"
      ],
      "metadata": {
        "id": "nbzthiSUvcIe"
      },
      "execution_count": 23,
      "outputs": []
    },
    {
      "cell_type": "code",
      "source": [
        "X = pca.fit_transform(model.wv.get_normed_vectors())"
      ],
      "metadata": {
        "id": "blU3GA9EvdrM"
      },
      "execution_count": 24,
      "outputs": []
    },
    {
      "cell_type": "code",
      "source": [
        "X"
      ],
      "metadata": {
        "colab": {
          "base_uri": "https://localhost:8080/"
        },
        "id": "8_FaGjARve15",
        "outputId": "95f5aa53-5ef3-4bf6-a8dd-d4198631159e"
      },
      "execution_count": 25,
      "outputs": [
        {
          "output_type": "execute_result",
          "data": {
            "text/plain": [
              "array([[-0.0172776 , -0.19360149,  0.00020214],\n",
              "       [-0.03014934, -0.14642256, -0.0037813 ],\n",
              "       [-0.05446488,  0.02236205, -0.00240359],\n",
              "       ...,\n",
              "       [ 0.07652998,  0.06379785,  0.06180245],\n",
              "       [-0.0311805 , -0.04844405, -0.00054951],\n",
              "       [ 0.04852295,  0.10731284, -0.02183391]], dtype=float32)"
            ]
          },
          "metadata": {},
          "execution_count": 25
        }
      ]
    },
    {
      "cell_type": "code",
      "source": [
        "X.shape"
      ],
      "metadata": {
        "colab": {
          "base_uri": "https://localhost:8080/"
        },
        "id": "-y74f7E8vgVV",
        "outputId": "8a2cf35c-639b-4777-d072-3b1053eccc40"
      },
      "execution_count": 26,
      "outputs": [
        {
          "output_type": "execute_result",
          "data": {
            "text/plain": [
              "(3840, 3)"
            ]
          },
          "metadata": {},
          "execution_count": 26
        }
      ]
    },
    {
      "cell_type": "code",
      "source": [
        "import plotly.express as px\n",
        "fig = px.scatter_3d(X[200:300],x=0,y=1,z=2, color=y[200:300])\n",
        "fig.show()"
      ],
      "metadata": {
        "id": "8nEb1OKVvigy"
      },
      "execution_count": null,
      "outputs": []
    }
  ]
}